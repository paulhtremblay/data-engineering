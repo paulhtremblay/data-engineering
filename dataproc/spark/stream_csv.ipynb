{
 "cells": [
  {
   "cell_type": "code",
   "execution_count": null,
   "metadata": {},
   "outputs": [],
   "source": [
    "from pyspark.sql import SparkSession\n",
    "from pyspark import SparkContext\n",
    "from  pyspark.sql import SQLContext\n",
    "from pyspark.sql.types import *\n",
    "\n",
    "import datetime\n",
    "import os\n",
    "import shutil\n",
    "import csv\n",
    "import random\n",
    "import uuid"
   ]
  },
  {
   "cell_type": "code",
   "execution_count": null,
   "metadata": {},
   "outputs": [],
   "source": [
    "DATA_DIR = 'data'\n",
    "CHECKPOINT_DIR = 'checkpoint_dir'\n",
    "OUT_DIR = 'streaming_out'\n",
    "def init_dir():\n",
    "    shutil.rmtree(DATA_DIR, ignore_errors=True)\n",
    "    shutil.rmtree(CHECKPOINT_DIR, ignore_errors = True)\n",
    "    shutil.rmtree(OUT_DIR, ignore_errors = True)\n",
    "    os.mkdir(DATA_DIR)\n",
    "    os.mkdir(CHECKPOINT_DIR)\n",
    "    os.mkdir(OUT_DIR)\n",
    "init_dir()"
   ]
  },
  {
   "cell_type": "code",
   "execution_count": null,
   "metadata": {},
   "outputs": [],
   "source": [
    "spark = SparkSession.builder \\\n",
    "             .master(\"local\") \\\n",
    "             .appName(\"stream to csv\")\\\n",
    "             .config(\"spark.some.config.option\", \"some-value\") \\\n",
    "            .getOrCreate()\n"
   ]
  },
  {
   "cell_type": "code",
   "execution_count": null,
   "metadata": {},
   "outputs": [],
   "source": [
    "dataSchema = StructType([StructField('creation_time',TimestampType(),True),\n",
    "        StructField('key',LongType(),True),\n",
    "        StructField('x',LongType(),True),\n",
    "                        ])"
   ]
  },
  {
   "cell_type": "code",
   "execution_count": null,
   "metadata": {},
   "outputs": [],
   "source": [
    "streaming = spark.readStream.schema(dataSchema).option(\"maxFilesPerTrigger\", 1)\\\n",
    ".csv( DATA_DIR)\n",
    "spark.conf.set(\"spark.sql.shuffle.partitions\", 5)"
   ]
  },
  {
   "cell_type": "code",
   "execution_count": null,
   "metadata": {},
   "outputs": [],
   "source": [
    "streaming.createOrReplaceTempView(\"my_table\")"
   ]
  },
  {
   "cell_type": "code",
   "execution_count": null,
   "metadata": {},
   "outputs": [],
   "source": [
    "spark.sql(\"select * from my_table\").writeStream.trigger(processingTime='60 seconds')\\\n",
    ".format(\"parquet\")\\\n",
    ".option(\"checkpointLocation\", CHECKPOINT_DIR).outputMode(\"append\")\\\n",
    ".option(\"path\", OUT_DIR).start()"
   ]
  },
  {
   "cell_type": "code",
   "execution_count": null,
   "metadata": {},
   "outputs": [],
   "source": [
    "def make_data(num_rows = 3):\n",
    "    now = datetime.datetime.now()\n",
    "    with open(os.path.join(DATA_DIR, f'{uuid.uuid1()}.csv'), 'w') as write_obj:\n",
    "        csv_writer = csv.writer(write_obj)\n",
    "        for i in range(num_rows):\n",
    "            row = [now.strftime('%Y-%m-%d %H:%M:%S'), random.randint(1,10), random.randint(1, 10)]\n",
    "            csv_writer.writerow(row)\n",
    "        \n",
    "make_data()"
   ]
  }
 ],
 "metadata": {
  "kernelspec": {
   "display_name": "Python 3 (ipykernel)",
   "language": "python",
   "name": "python3"
  },
  "language_info": {
   "codemirror_mode": {
    "name": "ipython",
    "version": 3
   },
   "file_extension": ".py",
   "mimetype": "text/x-python",
   "name": "python",
   "nbconvert_exporter": "python",
   "pygments_lexer": "ipython3",
   "version": "3.8.10"
  }
 },
 "nbformat": 4,
 "nbformat_minor": 4
}
