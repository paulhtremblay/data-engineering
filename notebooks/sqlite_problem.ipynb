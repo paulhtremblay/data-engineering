{
 "cells": [
  {
   "cell_type": "code",
   "execution_count": 24,
   "id": "758a9c54-5f83-47a9-a0c4-2c226f524999",
   "metadata": {},
   "outputs": [],
   "source": [
    "import os\n",
    "import csv\n",
    "import sqlite3"
   ]
  },
  {
   "cell_type": "code",
   "execution_count": 14,
   "id": "9d7a0131-640f-4c54-92c8-ec064bf5c2a2",
   "metadata": {},
   "outputs": [],
   "source": [
    "def cleanup(db_name):\n",
    "    if os.path.isfile(db_name):\n",
    "        os.remove(db_name)\n",
    "    "
   ]
  },
  {
   "cell_type": "code",
   "execution_count": 18,
   "id": "d36de258-186e-46d8-a8f0-8527f719bd3b",
   "metadata": {},
   "outputs": [],
   "source": [
    "def create_db(db_name = 'custom_problem'):\n",
    "    con = sqlite3.connect(db_name)   \n",
    "    return con"
   ]
  },
  {
   "cell_type": "code",
   "execution_count": 35,
   "id": "069f5606-e772-474d-a8da-b4bb5f5b8ccf",
   "metadata": {},
   "outputs": [],
   "source": [
    "def create_table(cur, table_name):\n",
    "    cur.execute(f\"\"\"\n",
    "    CREATE TABLE {table_name}(customer_id INT, purchase_date TEXT, amt NUM )\n",
    "    \"\"\")\n"
   ]
  },
  {
   "cell_type": "code",
   "execution_count": 41,
   "id": "73352f32-0097-4ef7-8978-c27c445afa97",
   "metadata": {},
   "outputs": [],
   "source": [
    "def import_csv(cur, table_name):\n",
    "    with open('data.csv','r') as read_obj: \n",
    "        dr = csv.DictReader(read_obj) \n",
    "        to_db = [(int(i['customer_id']), i['purchase_date'], int(i['amt'])) for i in dr]\n",
    "    cur.executemany(f\"INSERT INTO {table_name} (customer_id, purchase_date, amt) VALUES (?, ?, ?);\", to_db)"
   ]
  },
  {
   "cell_type": "code",
   "execution_count": 68,
   "id": "917214ff-cd8f-4949-a135-a5aa99733527",
   "metadata": {},
   "outputs": [],
   "source": [
    "def execute_sql(cur, table_name):\n",
    "    res = cur.execute(f\"\"\"\n",
    "    WITH CTE1 AS (SELECT customer_id, sum(amt) AS amt\n",
    "    FROM {table_name}\n",
    "    GROUP BY customer_id\n",
    "    )\n",
    "    SELECT * \n",
    "    FROM CTE1\n",
    "    ORDER BY amt desc\n",
    "    LIMIT 5\n",
    "    \n",
    "    \"\"\"\n",
    "               )\n",
    "    return res\n",
    "    "
   ]
  },
  {
   "cell_type": "code",
   "execution_count": 56,
   "id": "90122909-287a-4e15-9428-90207d5ef145",
   "metadata": {},
   "outputs": [],
   "source": [
    "def main():\n",
    "    db_name = 'custom_problem'\n",
    "    table_name = 'customers'\n",
    "    cleanup(db_name = db_name)\n",
    "    con = create_db(db_name = db_name)\n",
    "    cur = con.cursor()\n",
    "    create_table(table_name = table_name, cur= cur)\n",
    "    import_csv(cur = cur, table_name = table_name)\n",
    "    con.commit()\n",
    "main()"
   ]
  },
  {
   "cell_type": "code",
   "execution_count": 69,
   "id": "a2cb14ea-0e4b-443d-bea5-e357138a2de1",
   "metadata": {},
   "outputs": [
    {
     "name": "stdout",
     "output_type": "stream",
     "text": [
      "(12, 4003)\n",
      "(9, 3708)\n",
      "(21, 3259)\n",
      "(10, 3173)\n",
      "(7, 3112)\n"
     ]
    }
   ],
   "source": [
    "def do_sql():\n",
    "    db_name = 'custom_problem'\n",
    "    table_name = 'customers'\n",
    "    con = sqlite3.connect(db_name)\n",
    "    cur = con.cursor()\n",
    "    res = execute_sql(cur = cur, table_name= table_name)\n",
    "    for i in res.fetchall():\n",
    "        print(i)\n",
    "do_sql()\n"
   ]
  },
  {
   "cell_type": "code",
   "execution_count": null,
   "id": "11fc5129-7ba7-4d96-be2a-215f137e0bad",
   "metadata": {},
   "outputs": [],
   "source": []
  },
  {
   "cell_type": "code",
   "execution_count": null,
   "id": "8669875e-9971-4ec4-af96-12997d493bed",
   "metadata": {},
   "outputs": [],
   "source": []
  }
 ],
 "metadata": {
  "kernelspec": {
   "display_name": "Python 3 (ipykernel)",
   "language": "python",
   "name": "python3"
  },
  "language_info": {
   "codemirror_mode": {
    "name": "ipython",
    "version": 3
   },
   "file_extension": ".py",
   "mimetype": "text/x-python",
   "name": "python",
   "nbconvert_exporter": "python",
   "pygments_lexer": "ipython3",
   "version": "3.8.10"
  }
 },
 "nbformat": 4,
 "nbformat_minor": 5
}
